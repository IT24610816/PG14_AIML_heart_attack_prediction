{
 "cells": [
  {
   "cell_type": "code",
   "execution_count": 1,
   "id": "123807f0-9795-4a7a-aa64-bcddba009453",
   "metadata": {},
   "outputs": [],
   "source": [
    "# --- Setup (paths, imports) ---\n",
    "BASE_DIR  = r\"E:\\AIML\"\n",
    "DATA_PATH = rf\"E:\\AIML\\dataset\\heart_attack_prediction_dataset.csv\"\n",
    "EDA_DIR   = rf\"E:\\AIML\\results\\eda_visualizations\"\n",
    "OUT_DIR   = rf\"E:\\AIML\\results\\outputs\"\n",
    "\n",
    "import os, numpy as np, pandas as pd, matplotlib.pyplot as plt, warnings\n",
    "from IPython.display import display\n",
    "from sklearn.model_selection import train_test_split\n",
    "from sklearn.impute import SimpleImputer\n",
    "from sklearn.preprocessing import OneHotEncoder, StandardScaler, RobustScaler\n",
    "from sklearn.feature_selection import mutual_info_classif\n",
    "from sklearn.decomposition import PCA\n",
    "\n",
    "try:\n",
    "    from imblearn.over_sampling import SMOTE\n",
    "except Exception:\n",
    "    SMOTE = None  # Only needed for Member F\n",
    "\n",
    "warnings.filterwarnings(\"ignore\")\n",
    "os.makedirs(EDA_DIR, exist_ok=True)\n",
    "os.makedirs(OUT_DIR, exist_ok=True)\n",
    "\n",
    "TARGET = \"Heart Attack Risk\"\n",
    "RANDOM_STATE = 42\n"
   ]
  },
  {
   "cell_type": "code",
   "execution_count": 2,
   "id": "5b997d9e-b44e-4eb4-82c9-36c83f1c283a",
   "metadata": {},
   "outputs": [
    {
     "name": "stdout",
     "output_type": "stream",
     "text": [
      "Train/Test: (7010, 24) (1753, 24)\n"
     ]
    }
   ],
   "source": [
    "# --- Load & Split (before any fitting) ---\n",
    "df = pd.read_csv(DATA_PATH)\n",
    "assert TARGET in df.columns, f\"TARGET '{TARGET}' not found. Columns: {list(df.columns)}\"\n",
    "\n",
    "# optional: drop ID-like columns\n",
    "id_like = {\"patient id\",\"id\",\"record id\"}\n",
    "drop_ids = [c for c in df.columns if c.strip().lower() in id_like]\n",
    "if drop_ids:\n",
    "    df = df.drop(columns=drop_ids)\n",
    "\n",
    "X = df.drop(columns=[TARGET]).copy()\n",
    "y = df[TARGET].values\n",
    "strat = y if pd.Series(y).nunique() <= 20 else None\n",
    "\n",
    "X_train, X_test, y_train, y_test = train_test_split(\n",
    "    X, y, test_size=0.2, random_state=RANDOM_STATE, stratify=strat\n",
    ")\n",
    "print(\"Train/Test:\", X_train.shape, X_test.shape)\n",
    "#%%\n"
   ]
  },
  {
   "cell_type": "code",
   "execution_count": 3,
   "id": "88b0d9df-0607-4fbb-be0d-fd96d0617629",
   "metadata": {},
   "outputs": [
    {
     "name": "stdout",
     "output_type": "stream",
     "text": [
      "Categorical: ['Sex', 'Blood Pressure', 'Diabetes', 'Family History', 'Smoking', 'Obesity', 'Alcohol Consumption', 'Diet', 'Previous Heart Problems', 'Medication Use', 'Stress Level', 'Physical Activity Days Per Week', 'Sleep Hours Per Day', 'Country', 'Continent', 'Hemisphere']\n",
      "Numeric: ['Age', 'Cholesterol', 'Heart Rate', 'Exercise Hours Per Week', 'Sedentary Hours Per Day', 'Income', 'BMI', 'Triglycerides']\n"
     ]
    }
   ],
   "source": [
    "# --- Detect categorical vs numeric ---\n",
    "LOW_CARD_AS_CAT = 12\n",
    "categorical_cols = []\n",
    "for c in X_train.columns:\n",
    "    if X_train[c].dtype == \"object\":\n",
    "        categorical_cols.append(c)\n",
    "    else:\n",
    "        if X_train[c].nunique(dropna=True) <= LOW_CARD_AS_CAT:\n",
    "            categorical_cols.append(c)\n",
    "numeric_cols = [c for c in X_train.select_dtypes(include=\"number\").columns if c not in categorical_cols]\n",
    "print(\"Categorical:\", categorical_cols)\n",
    "print(\"Numeric:\", numeric_cols)"
   ]
  },
  {
   "cell_type": "code",
   "execution_count": 6,
   "id": "5384c701-84a7-443f-b35c-e2775f80cb69",
   "metadata": {},
   "outputs": [
    {
     "name": "stdout",
     "output_type": "stream",
     "text": [
      "Imputing locally (median numeric, most_frequent categorical)...\n",
      "Imputed shapes: (7010, 24) (1753, 24)\n"
     ]
    }
   ],
   "source": [
    "# --- Pre-req: Impute (load if available; else compute) ---\n",
    "import os\n",
    "\n",
    "train_imp_path = os.path.join(OUT_DIR, \"X_train_imputed.csv\")\n",
    "test_imp_path  = os.path.join(OUT_DIR, \"X_test_imputed.csv\")\n",
    "\n",
    "if os.path.exists(train_imp_path) and os.path.exists(test_imp_path):\n",
    "    print(\"Loading imputed splits from outputs/...\")\n",
    "    X_train_imp = pd.read_csv(train_imp_path).drop(columns=[TARGET], errors=\"ignore\")\n",
    "    X_test_imp  = pd.read_csv(test_imp_path).drop(columns=[TARGET], errors=\"ignore\")\n",
    "else:\n",
    "    print(\"Imputing locally (median numeric, most_frequent categorical)...\")\n",
    "    num_imputer = SimpleImputer(strategy=\"median\")\n",
    "    cat_imputer = SimpleImputer(strategy=\"most_frequent\")\n",
    "    X_train_num = num_imputer.fit_transform(X_train[numeric_cols]) if numeric_cols else None\n",
    "    X_test_num  = num_imputer.transform(X_test[numeric_cols])      if numeric_cols else None\n",
    "    X_train_cat = cat_imputer.fit_transform(X_train[categorical_cols]) if categorical_cols else None\n",
    "    X_test_cat  = cat_imputer.transform(X_test[categorical_cols])      if categorical_cols else None\n",
    "    tr_parts, te_parts = [], []\n",
    "    if X_train_num is not None:\n",
    "        tr_parts.append(pd.DataFrame(X_train_num, columns=numeric_cols, index=X_train.index))\n",
    "        te_parts.append(pd.DataFrame(X_test_num,  columns=numeric_cols, index=X_test.index))\n",
    "    if X_train_cat is not None:\n",
    "        tr_parts.append(pd.DataFrame(X_train_cat, columns=categorical_cols, index=X_train.index))\n",
    "        te_parts.append(pd.DataFrame(X_test_cat,  columns=categorical_cols, index=X_test.index))\n",
    "    X_train_imp = pd.concat(tr_parts, axis=1) if tr_parts else pd.DataFrame(index=X_train.index)\n",
    "    X_test_imp  = pd.concat(te_parts, axis=1) if te_parts else pd.DataFrame(index=X_test.index)\n",
    "\n",
    "print(\"Imputed shapes:\", X_train_imp.shape, X_test_imp.shape)\n",
    "#%%\n"
   ]
  },
  {
   "cell_type": "code",
   "execution_count": 7,
   "id": "6bab8359-9897-4bd4-a963-5969d25f30b2",
   "metadata": {},
   "outputs": [
    {
     "data": {
      "image/png": "[encoded data removed]",
      "text/plain": [
       "<Figure size 640x480 with 1 Axes>"
      ]
     },
     "metadata": {},
     "output_type": "display_data"
    },
    {
     "ename": "NameError",
     "evalue": "name 'X_train_FE' is not defined",
     "output_type": "error",
     "traceback": [
      "\u001b[1;31m---------------------------------------------------------------------------\u001b[0m",
      "\u001b[1;31mNameError\u001b[0m                                 Traceback (most recent call last)",
      "Cell \u001b[1;32mIn[7], line 15\u001b[0m\n\u001b[0;32m     12\u001b[0m k_neighbors \u001b[38;5;241m=\u001b[39m \u001b[38;5;28mmax\u001b[39m(\u001b[38;5;241m1\u001b[39m, \u001b[38;5;28mmin\u001b[39m(\u001b[38;5;241m5\u001b[39m, min_count \u001b[38;5;241m-\u001b[39m \u001b[38;5;241m1\u001b[39m))\n\u001b[0;32m     13\u001b[0m smote \u001b[38;5;241m=\u001b[39m SMOTE(random_state\u001b[38;5;241m=\u001b[39mRANDOM_STATE, k_neighbors\u001b[38;5;241m=\u001b[39mk_neighbors)\n\u001b[1;32m---> 15\u001b[0m X_train_res, y_train_res \u001b[38;5;241m=\u001b[39m smote\u001b[38;5;241m.\u001b[39mfit_resample(X_train_FE, y_train)\n\u001b[0;32m     16\u001b[0m \u001b[38;5;28mprint\u001b[39m(\u001b[38;5;124m\"\u001b[39m\u001b[38;5;124mResampled TRAIN shape:\u001b[39m\u001b[38;5;124m\"\u001b[39m, X_train_res\u001b[38;5;241m.\u001b[39mshape)\n\u001b[0;32m     18\u001b[0m counts_after \u001b[38;5;241m=\u001b[39m Counter(y_train_res)\n",
      "\u001b[1;31mNameError\u001b[0m: name 'X_train_FE' is not defined"
     ]
    }
   ],
   "source": [
    "# --- F2: SMOTE on TRAIN only (with safe k) ---\n",
    "if SMOTE is None:\n",
    "    raise ImportError(\"imblearn is not installed. Install with: pip install imbalanced-learn\")\n",
    "\n",
    "from collections import Counter\n",
    "counts_before = Counter(y_train)\n",
    "plt.figure(); plt.bar([str(k) for k in sorted(counts_before)], [counts_before[k] for k in sorted(counts_before)])\n",
    "plt.title(\"Target distribution — TRAIN (before SMOTE)\"); plt.xlabel(\"Class\"); plt.ylabel(\"Count\")\n",
    "plt.tight_layout(); plt.savefig(os.path.join(EDA_DIR, \"F_target_before_SMOTE.png\")); plt.show()\n",
    "\n",
    "min_count = min(counts_before.values())\n",
    "k_neighbors = max(1, min(5, min_count - 1))\n",
    "smote = SMOTE(random_state=RANDOM_STATE, k_neighbors=k_neighbors)\n",
    "\n",
    "X_train_res, y_train_res = smote.fit_resample(X_train_FE, y_train)\n",
    "print(\"Resampled TRAIN shape:\", X_train_res.shape)\n",
    "\n",
    "counts_after = Counter(y_train_res)\n",
    "plt.figure(); plt.bar([str(k) for k in sorted(counts_after)], [counts_after[k] for k in sorted(counts_after)])\n",
    "plt.title(\"Target distribution — TRAIN (after SMOTE)\"); plt.xlabel(\"Class\"); plt.ylabel(\"Count\")\n",
    "plt.tight_layout(); plt.savefig(os.path.join(EDA_DIR, \"F_target_after_SMOTE.png\")); plt.show()\n",
    "\n",
    "# Save resampled TRAIN for modeling\n",
    "pd.DataFrame(X_train_res).to_csv(os.path.join(OUT_DIR, \"F_X_train_SMOTE_numeric.csv\"), index=False)\n",
    "pd.Series(y_train_res, name=TARGET).to_csv(os.path.join(OUT_DIR, \"F_y_train_SMOTE.csv\"), index=False)\n",
    "print(\"Saved: F_X_train_SMOTE_numeric.csv, F_y_train_SMOTE.csv\")"
   ]
  },
  {
   "cell_type": "code",
   "execution_count": null,
   "id": "9e62903e-bccb-4bdb-9b35-f493bfa44246",
   "metadata": {},
   "outputs": [],
   "source": []
  }
 ],
 "metadata": {
  "kernelspec": {
   "display_name": "Python 3 (ipykernel)",
   "language": "python",
   "name": "python3"
  },
  "language_info": {
   "codemirror_mode": {
    "name": "ipython",
    "version": 3
   },
   "file_extension": ".py",
   "mimetype": "text/x-python",
   "name": "python",
   "nbconvert_exporter": "python",
   "pygments_lexer": "ipython3",
   "version": "3.13.5"
  }
 },
 "nbformat": 4,
 "nbformat_minor": 5
}
