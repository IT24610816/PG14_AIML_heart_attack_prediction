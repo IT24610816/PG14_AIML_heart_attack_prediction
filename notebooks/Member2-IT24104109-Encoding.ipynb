{
 "cells": [
  {
   "cell_type": "code",
   "execution_count": 6,
   "id": "63e027f4-090b-403d-bdba-1d3cc46ae282",
   "metadata": {},
   "outputs": [],
   "source": [
    "# --- Setup (paths, imports) ---\n",
    "BASE_DIR  = r\"E:\\AIML\"\n",
    "DATA_PATH = rf\"E:\\AIML\\dataset\\heart_attack_prediction_dataset.csv\"\n",
    "EDA_DIR   = rf\"E:\\AIML\\results\\eda_visualizations\"\n",
    "OUT_DIR   = rf\"E:\\AIML\\results\\outputs\"\n",
    "\n",
    "import os, numpy as np, pandas as pd, matplotlib.pyplot as plt, warnings\n",
    "from IPython.display import display\n",
    "from sklearn.model_selection import train_test_split\n",
    "from sklearn.impute import SimpleImputer\n",
    "from sklearn.preprocessing import OneHotEncoder, StandardScaler, RobustScaler\n",
    "from sklearn.feature_selection import mutual_info_classif\n",
    "from sklearn.decomposition import PCA\n",
    "\n",
    "try:\n",
    "    from imblearn.over_sampling import SMOTE\n",
    "except Exception:\n",
    "    SMOTE = None  # Only needed for Member F\n",
    "\n",
    "warnings.filterwarnings(\"ignore\")\n",
    "os.makedirs(EDA_DIR, exist_ok=True)\n",
    "os.makedirs(OUT_DIR, exist_ok=True)\n",
    "\n",
    "TARGET = \"Heart Attack Risk\"\n",
    "RANDOM_STATE = 42"
   ]
  },
  {
   "cell_type": "code",
   "execution_count": 7,
   "id": "f5a1d719-fa19-430c-9beb-fe3fe8168216",
   "metadata": {},
   "outputs": [
    {
     "name": "stdout",
     "output_type": "stream",
     "text": [
      "Train/Test: (7010, 24) (1753, 24)\n"
     ]
    }
   ],
   "source": [
    "# --- Load & Split (before any fitting) ---\n",
    "df = pd.read_csv(DATA_PATH)\n",
    "assert TARGET in df.columns, f\"TARGET '{TARGET}' not found. Columns: {list(df.columns)}\"\n",
    "\n",
    "# optional: drop ID-like columns\n",
    "id_like = {\"patient id\",\"id\",\"record id\"}\n",
    "drop_ids = [c for c in df.columns if c.strip().lower() in id_like]\n",
    "if drop_ids:\n",
    "    df = df.drop(columns=drop_ids)\n",
    "\n",
    "X = df.drop(columns=[TARGET]).copy()\n",
    "y = df[TARGET].values\n",
    "strat = y if pd.Series(y).nunique() <= 20 else None\n",
    "\n",
    "X_train, X_test, y_train, y_test = train_test_split(\n",
    "    X, y, test_size=0.2, random_state=RANDOM_STATE, stratify=strat\n",
    ")\n",
    "print(\"Train/Test:\", X_train.shape, X_test.shape)"
   ]
  },
  {
   "cell_type": "code",
   "execution_count": 8,
   "id": "31c675ed-8db4-46d7-9aa4-19647c7d1b64",
   "metadata": {},
   "outputs": [
    {
     "name": "stdout",
     "output_type": "stream",
     "text": [
      "Categorical: ['Sex', 'Blood Pressure', 'Diabetes', 'Family History', 'Smoking', 'Obesity', 'Alcohol Consumption', 'Diet', 'Previous Heart Problems', 'Medication Use', 'Stress Level', 'Physical Activity Days Per Week', 'Sleep Hours Per Day', 'Country', 'Continent', 'Hemisphere']\n",
      "Numeric: ['Age', 'Cholesterol', 'Heart Rate', 'Exercise Hours Per Week', 'Sedentary Hours Per Day', 'Income', 'BMI', 'Triglycerides']\n"
     ]
    }
   ],
   "source": [
    "# --- Detect categorical vs numeric ---\n",
    "LOW_CARD_AS_CAT = 12\n",
    "categorical_cols = []\n",
    "for c in X_train.columns:\n",
    "    if X_train[c].dtype == \"object\":\n",
    "        categorical_cols.append(c)\n",
    "    else:\n",
    "        if X_train[c].nunique(dropna=True) <= LOW_CARD_AS_CAT:\n",
    "            categorical_cols.append(c)\n",
    "numeric_cols = [c for c in X_train.select_dtypes(include=\"number\").columns if c not in categorical_cols]\n",
    "print(\"Categorical:\", categorical_cols)\n",
    "print(\"Numeric:\", numeric_cols)"
   ]
  },
  {
   "cell_type": "code",
   "execution_count": 9,
   "id": "a4a40331-0cb1-4ad3-9423-e6f426cbc783",
   "metadata": {},
   "outputs": [
    {
     "name": "stdout",
     "output_type": "stream",
     "text": [
      "Imputing locally (median numeric, most_frequent categorical)...\n",
      "Imputed shapes: (7010, 24) (1753, 24)\n"
     ]
    }
   ],
   "source": [
    "# --- Pre-req: Impute (load if available; else compute) ---\n",
    "import os\n",
    "\n",
    "train_imp_path = os.path.join(OUT_DIR, \"X_train_imputed.csv\")\n",
    "test_imp_path  = os.path.join(OUT_DIR, \"X_test_imputed.csv\")\n",
    "\n",
    "if os.path.exists(train_imp_path) and os.path.exists(test_imp_path):\n",
    "    print(\"Loading imputed splits from outputs/...\")\n",
    "    X_train_imp = pd.read_csv(train_imp_path).drop(columns=[TARGET], errors=\"ignore\")\n",
    "    X_test_imp  = pd.read_csv(test_imp_path).drop(columns=[TARGET], errors=\"ignore\")\n",
    "else:\n",
    "    print(\"Imputing locally (median numeric, most_frequent categorical)...\")\n",
    "    num_imputer = SimpleImputer(strategy=\"median\")\n",
    "    cat_imputer = SimpleImputer(strategy=\"most_frequent\")\n",
    "    X_train_num = num_imputer.fit_transform(X_train[numeric_cols]) if numeric_cols else None\n",
    "    X_test_num  = num_imputer.transform(X_test[numeric_cols])      if numeric_cols else None\n",
    "    X_train_cat = cat_imputer.fit_transform(X_train[categorical_cols]) if categorical_cols else None\n",
    "    X_test_cat  = cat_imputer.transform(X_test[categorical_cols])      if categorical_cols else None\n",
    "    tr_parts, te_parts = [], []\n",
    "    if X_train_num is not None:\n",
    "        tr_parts.append(pd.DataFrame(X_train_num, columns=numeric_cols, index=X_train.index))\n",
    "        te_parts.append(pd.DataFrame(X_test_num,  columns=numeric_cols, index=X_test.index))\n",
    "    if X_train_cat is not None:\n",
    "        tr_parts.append(pd.DataFrame(X_train_cat, columns=categorical_cols, index=X_train.index))\n",
    "        te_parts.append(pd.DataFrame(X_test_cat,  columns=categorical_cols, index=X_test.index))\n",
    "    X_train_imp = pd.concat(tr_parts, axis=1) if tr_parts else pd.DataFrame(index=X_train.index)\n",
    "    X_test_imp  = pd.concat(te_parts, axis=1) if te_parts else pd.DataFrame(index=X_test.index)\n",
    "\n",
    "print(\"Imputed shapes:\", X_train_imp.shape, X_test_imp.shape)"
   ]
  },
  {
   "cell_type": "code",
   "execution_count": 5,
   "id": "be7d5933-3bb2-4d0c-951b-ad98dbe25bad",
   "metadata": {},
   "outputs": [
    {
     "data": {
      "image/png": "[encoded data removed]",
      "text/plain": [
       "<Figure size 640x480 with 1 Axes>"
      ]
     },
     "metadata": {},
     "output_type": "display_data"
    }
   ],
   "source": [
    "# --- B1: EDA (cp distribution or fallback) ---\n",
    "plot_col = \"cp\" if (\"cp\" in df.columns) else (categorical_cols[0] if categorical_cols else None)\n",
    "if plot_col:\n",
    "    plt.figure()\n",
    "    df[plot_col].value_counts(dropna=False).sort_index().plot(kind=\"bar\")\n",
    "    plt.title(f\"{plot_col} distribution (full data)\"); plt.xlabel(plot_col); plt.ylabel(\"count\")\n",
    "    plt.tight_layout(); plt.savefig(os.path.join(EDA_DIR, f\"{plot_col}_distribution.png\")); plt.show()\n",
    "else:\n",
    "    print(\"No categorical column found for bar plot.\")"
   ]
  },
  {
   "cell_type": "code",
   "execution_count": 6,
   "id": "cb0b4100-8bbf-421c-9022-5f75c229dc50",
   "metadata": {},
   "outputs": [
    {
     "name": "stdout",
     "output_type": "stream",
     "text": [
      "After encoding -> TRAIN: (7010, 3695)  TEST: (1753, 3695)\n",
      "Saved: B_X_train_encoded.csv, B_X_test_encoded.csv\n"
     ]
    }
   ],
   "source": [
    "# --- B2: One-Hot Encoding (fit on TRAIN only) ---\n",
    "try:\n",
    "    ohe = OneHotEncoder(handle_unknown=\"ignore\", sparse_output=False)  # sklearn >=1.2\n",
    "except TypeError:\n",
    "    ohe = OneHotEncoder(handle_unknown=\"ignore\", sparse=False)         # older sklearn\n",
    "\n",
    "if categorical_cols:\n",
    "    Xtr_cat = X_train_imp[categorical_cols].astype(\"category\")\n",
    "    Xte_cat = X_test_imp[categorical_cols].astype(\"category\")\n",
    "    Xtr_ohe = ohe.fit_transform(Xtr_cat)\n",
    "    Xte_ohe = ohe.transform(Xte_cat)\n",
    "    try:\n",
    "        ohe_cols = list(ohe.get_feature_names_out(categorical_cols))\n",
    "    except AttributeError:\n",
    "        ohe_cols = [f\"{c}_{v}\" for c, cats in zip(categorical_cols, ohe.categories_) for v in cats]\n",
    "    df_tr_ohe = pd.DataFrame(Xtr_ohe, columns=ohe_cols, index=X_train_imp.index)\n",
    "    df_te_ohe = pd.DataFrame(Xte_ohe, columns=ohe_cols, index=X_test_imp.index)\n",
    "else:\n",
    "    df_tr_ohe = pd.DataFrame(index=X_train_imp.index)\n",
    "    df_te_ohe = pd.DataFrame(index=X_test_imp.index)\n",
    "\n",
    "# keep numeric columns (from imputed)\n",
    "num_keep = [c for c in X_train_imp.columns if c in X_train.select_dtypes(include=\"number\").columns]\n",
    "X_train_enc = pd.concat([X_train_imp[num_keep], df_tr_ohe], axis=1)\n",
    "X_test_enc  = pd.concat([X_test_imp[num_keep],  df_te_ohe],  axis=1)\n",
    "print(\"After encoding -> TRAIN:\", X_train_enc.shape, \" TEST:\", X_test_enc.shape)\n",
    "\n",
    "# Save encoded splits\n",
    "pd.concat([X_train_enc, pd.Series(y_train, index=X_train_enc.index, name=TARGET)], axis=1)\\\n",
    "  .to_csv(os.path.join(OUT_DIR, \"B_X_train_encoded.csv\"), index=False)\n",
    "pd.concat([X_test_enc,  pd.Series(y_test,  index=X_test_enc.index,  name=TARGET)], axis=1)\\\n",
    "  .to_csv(os.path.join(OUT_DIR, \"B_X_test_encoded.csv\"),  index=False)\n",
    "print(\"Saved: B_X_train_encoded.csv, B_X_test_encoded.csv\")"
   ]
  },
  {
   "cell_type": "code",
   "execution_count": null,
   "id": "39ba3969-3507-42b9-a480-483c8c8d3e11",
   "metadata": {},
   "outputs": [],
   "source": []
  }
 ],
 "metadata": {
  "kernelspec": {
   "display_name": "Python 3 (ipykernel)",
   "language": "python",
   "name": "python3"
  },
  "language_info": {
   "codemirror_mode": {
    "name": "ipython",
    "version": 3
   },
   "file_extension": ".py",
   "mimetype": "text/x-python",
   "name": "python",
   "nbconvert_exporter": "python",
   "pygments_lexer": "ipython3",
   "version": "3.13.5"
  }
 },
 "nbformat": 4,
 "nbformat_minor": 5
}
